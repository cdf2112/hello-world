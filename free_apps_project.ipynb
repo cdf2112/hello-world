{
 "cells": [
  {
   "cell_type": "markdown",
   "metadata": {},
   "source": [
    "# Categorizing Profitable Free Mobile Apps\n",
    "\n",
    "Our discussion concerns mobile apps available for Android and Apple operating systems. In particular, we wish to uncover ideas for new mobile apps which are\n",
    "both **free** and **profitable**. \n",
    "\n",
    "Profitability of free apps is based on in-app adverstisements. Thus, the more users of a free app, the greater its actual or potential profitability. \n",
    "\n",
    "This simple principle leads us to our main strategies of analyzing existing apps:\n",
    "    1. What kinds of free apps have the most number of users?  \n",
    "       These are the apps we might wish to emulate as developers. \n",
    "    \n",
    "    2. What kinds of free apps have the fewest number of users?  \n",
    "       These are the categories of apps we might wish to avoid  \n",
    "       as developers. \n",
    "    \n",
    "    3. What kinds of paid apps are not well-represented among free apps?  \n",
    "       The idea is that free apps of this type could take future market  \n",
    "       share away from paid apps, and thus fulfill our profitability goal    \n",
    "       of having a large number of users. \n",
    "    \n",
    "We are going to dig into two different data sets for mobile apps. One set contains data for Android apps ([link here](https://dq-content.s3.amazonaws.com/350/googleplaystore.csv)), and the other for iOS apps ([link here](https://dq-content.s3.amazonaws.com/350/AppleStore.csv)). The basics of Python programming language for data analysis will be put to use. We explain everything step-by-step and try to justify our conclusions. "
   ]
  },
  {
   "cell_type": "code",
   "execution_count": 49,
   "metadata": {
    "collapsed": true
   },
   "outputs": [],
   "source": [
    "from csv import reader\n",
    "\n",
    "#obtain the data set for iOS apps\n",
    "apple_file = open('AppleStore.csv', encoding = \"utf8\")\n",
    "opened_file = reader(apple_file)\n",
    "ios = list(opened_file) #list of lists, with header row\n",
    "#obtain the data set for Android apps\n",
    "google_file = open('googleplaystore.csv', encoding = \"utf8\")\n",
    "opened_file = reader(google_file)\n",
    "android = list(opened_file) #list of lists, with header row"
   ]
  },
  {
   "cell_type": "markdown",
   "metadata": {},
   "source": [
    "Here is a function that allows us to easily print and view rows from our data sets `iOS` and `android` in a readable way."
   ]
  },
  {
   "cell_type": "code",
   "execution_count": 50,
   "metadata": {
    "collapsed": true
   },
   "outputs": [],
   "source": [
    "def explore_data(dataset, start, end, rows_and_columns=False):\n",
    "    dataset_slice = dataset[start:end]\n",
    "    for row in dataset_slice:\n",
    "        print(row)\n",
    "        print('\\n')\n",
    "        \n",
    "    if rows_and_columns:\n",
    "        print('Number of rows:' , len(dataset))\n",
    "        print('Number of columns:', len(dataset[0]))"
   ]
  },
  {
   "cell_type": "markdown",
   "metadata": {
    "collapsed": true
   },
   "source": [
    "Here are the first few rows of the iOS and android data sets, respectively:"
   ]
  },
  {
   "cell_type": "code",
   "execution_count": 51,
   "metadata": {
    "collapsed": false
   },
   "outputs": [
    {
     "name": "stdout",
     "output_type": "stream",
     "text": [
      "['284882215', 'Facebook', '389879808', 'USD', '0.0', '2974676', '212', '3.5', '3.5', '95.0', '4+', 'Social Networking', '37', '1', '29', '1']\n",
      "\n",
      "\n",
      "['389801252', 'Instagram', '113954816', 'USD', '0.0', '2161558', '1289', '4.5', '4.0', '10.23', '12+', 'Photo & Video', '37', '0', '29', '1']\n",
      "\n",
      "\n",
      "['529479190', 'Clash of Clans', '116476928', 'USD', '0.0', '2130805', '579', '4.5', '4.5', '9.24.12', '9+', 'Games', '38', '5', '18', '1']\n",
      "\n",
      "\n",
      "Number of rows: 7198\n",
      "Number of columns: 16\n"
     ]
    }
   ],
   "source": [
    "explore_data(ios, 1, 4, True)"
   ]
  },
  {
   "cell_type": "code",
   "execution_count": 52,
   "metadata": {
    "collapsed": false
   },
   "outputs": [
    {
     "name": "stdout",
     "output_type": "stream",
     "text": [
      "['Photo Editor & Candy Camera & Grid & ScrapBook', 'ART_AND_DESIGN', '4.1', '159', '19M', '10,000+', 'Free', '0', 'Everyone', 'Art & Design', 'January 7, 2018', '1.0.0', '4.0.3 and up']\n",
      "\n",
      "\n",
      "['Coloring book moana', 'ART_AND_DESIGN', '3.9', '967', '14M', '500,000+', 'Free', '0', 'Everyone', 'Art & Design;Pretend Play', 'January 15, 2018', '2.0.0', '4.0.3 and up']\n",
      "\n",
      "\n",
      "['U Launcher Lite – FREE Live Cool Themes, Hide Apps', 'ART_AND_DESIGN', '4.7', '87510', '8.7M', '5,000,000+', 'Free', '0', 'Everyone', 'Art & Design', 'August 1, 2018', '1.2.4', '4.0.3 and up']\n",
      "\n",
      "\n",
      "Number of rows: 10842\n",
      "Number of columns: 13\n"
     ]
    }
   ],
   "source": [
    "explore_data(android, 1, 4, True)"
   ]
  },
  {
   "cell_type": "markdown",
   "metadata": {},
   "source": [
    "Notice above that the ios dataset has 7,198 rows, and the android dataset has 10,842 rows, not including the headers. We next display the headers for the ios and android datasets, respectively."
   ]
  },
  {
   "cell_type": "code",
   "execution_count": 53,
   "metadata": {
    "collapsed": false
   },
   "outputs": [
    {
     "name": "stdout",
     "output_type": "stream",
     "text": [
      "['id', 'track_name', 'size_bytes', 'currency', 'price', 'rating_count_tot', 'rating_count_ver', 'user_rating', 'user_rating_ver', 'ver', 'cont_rating', 'prime_genre', 'sup_devices.num', 'ipadSc_urls.num', 'lang.num', 'vpp_lic']\n",
      "\n",
      "\n",
      "['App', 'Category', 'Rating', 'Reviews', 'Size', 'Installs', 'Type', 'Price', 'Content Rating', 'Genres', 'Last Updated', 'Current Ver', 'Android Ver']\n"
     ]
    }
   ],
   "source": [
    "print(ios[0])\n",
    "print('\\n')\n",
    "print(android[0])"
   ]
  },
  {
   "cell_type": "markdown",
   "metadata": {},
   "source": [
    "Here is the meaning of the columns for the ios dataset:\n",
    "\n",
    "|Column name      |Description\n",
    "|:---             |:---\n",
    "|id                |Apple Id\n",
    "|track_name        |App name\n",
    "|size_bytes        |Size in bytes\n",
    "|currency          |Currency type\n",
    "|price             |Price amount\n",
    "|rating_count_tot  |User rating counts, all versions\n",
    "|rating_count_ver  |User rating counts, current version\n",
    "|user_rating       |Average user rating, all versions\n",
    "|user_rating_ver   |Average user rating value, current version\n",
    "|ver               |Latest version code\n",
    "|cont_rating       |Content rating\n",
    "|prime_genre       |Primary genre\n",
    "|sup_devices.num   |Number of supporting devices\n",
    "|ipadSc_urls.num   |Number of screenshots showed for display\n",
    "|lang.num          |Number of supported devices\n",
    "|vpp_lic           |Vpp Device Based Licensing Enabled\n",
    "\n",
    "Because we wish to study free profitable apps, the columns `price` and `rating_count_tot` are especially useful to our analysis (free or not, and how many people used the app). Naturally, we need to keep track of `prime_genre` and `cont_rating` as well, to see what kind of apps we are dealing with.\n",
    "\n",
    "Similarly, for the android columns, we will be looking at the columns `Price`, `Installs`, `Genres` and `Content Rating`.\n"
   ]
  },
  {
   "cell_type": "markdown",
   "metadata": {},
   "source": [
    "### Data Cleaning"
   ]
  },
  {
   "cell_type": "markdown",
   "metadata": {},
   "source": [
    "We have been made aware that there is an error in the android dataset at or near row 10,472 (one of the column entries is reportedly missing in this row). Let's print the lengths of a few rows in this range. (Recall from above that the correct length is 13.)"
   ]
  },
  {
   "cell_type": "code",
   "execution_count": 54,
   "metadata": {
    "collapsed": false
   },
   "outputs": [
    {
     "name": "stdout",
     "output_type": "stream",
     "text": [
      "13\n",
      "13\n",
      "12\n"
     ]
    }
   ],
   "source": [
    "for row in android[10471:10474]:\n",
    "    print(len(row))"
   ]
  },
  {
   "cell_type": "markdown",
   "metadata": {},
   "source": [
    "We see it is row 10,473 which contains the error! We delete this row from the data."
   ]
  },
  {
   "cell_type": "code",
   "execution_count": 55,
   "metadata": {
    "collapsed": false
   },
   "outputs": [
    {
     "name": "stdout",
     "output_type": "stream",
     "text": [
      "10841\n"
     ]
    }
   ],
   "source": [
    "del android[10473]\n",
    "print(len(android))"
   ]
  },
  {
   "cell_type": "markdown",
   "metadata": {},
   "source": [
    "This is indeed the number of rows that should remain after we delete one row. We also suspect that there are duplicate apps in some rows of this dataset. For example, here are all the rows for the app 'Instagram':"
   ]
  },
  {
   "cell_type": "code",
   "execution_count": 56,
   "metadata": {
    "collapsed": false
   },
   "outputs": [
    {
     "name": "stdout",
     "output_type": "stream",
     "text": [
      "['Instagram', 'SOCIAL', '4.5', '66577313', 'Varies with device', '1,000,000,000+', 'Free', '0', 'Teen', 'Social', 'July 31, 2018', 'Varies with device', 'Varies with device']\n",
      "\n",
      "\n",
      "['Instagram', 'SOCIAL', '4.5', '66577446', 'Varies with device', '1,000,000,000+', 'Free', '0', 'Teen', 'Social', 'July 31, 2018', 'Varies with device', 'Varies with device']\n",
      "\n",
      "\n",
      "['Instagram', 'SOCIAL', '4.5', '66577313', 'Varies with device', '1,000,000,000+', 'Free', '0', 'Teen', 'Social', 'July 31, 2018', 'Varies with device', 'Varies with device']\n",
      "\n",
      "\n",
      "['Instagram', 'SOCIAL', '4.5', '66509917', 'Varies with device', '1,000,000,000+', 'Free', '0', 'Teen', 'Social', 'July 31, 2018', 'Varies with device', 'Varies with device']\n",
      "\n",
      "\n"
     ]
    }
   ],
   "source": [
    "for row in android:\n",
    "    if row[0] == 'Instagram':\n",
    "        print(row)\n",
    "        print('\\n')"
   ]
  },
  {
   "cell_type": "markdown",
   "metadata": {},
   "source": [
    "How many rows in all contain duplicate apps?"
   ]
  },
  {
   "cell_type": "code",
   "execution_count": 57,
   "metadata": {
    "collapsed": false
   },
   "outputs": [
    {
     "name": "stdout",
     "output_type": "stream",
     "text": [
      "1181 duplicate rows in all!\n"
     ]
    }
   ],
   "source": [
    "duplicate = []\n",
    "unique = []\n",
    "for row in android:\n",
    "    app = row[0]\n",
    "    if app in unique:\n",
    "        duplicate.append(app)\n",
    "    else:\n",
    "        unique.append(app)\n",
    "\n",
    "print(len(duplicate), 'duplicate rows in all!')"
   ]
  },
  {
   "cell_type": "markdown",
   "metadata": {},
   "source": [
    "How to deal with this? The only significant entry that varies between rows for duplicate apps is 'Reviews' -- since we wish to focus on apps with the largest number of reviews (profitable), we will keep only the row with the highest number, and delete the rest. (The data were entered into the table at different times, and the row with the largest number for 'Reviews' should be the most recent entry.)"
   ]
  },
  {
   "cell_type": "markdown",
   "metadata": {
    "collapsed": true
   },
   "source": [
    "### More Data Cleaning: Removing Duplicates\n",
    "After we remove duplicate app rows according to our plan, we expect the android dataset (without header) to contain 10840 - 1181 = 9,659 rows. To see which rows we will **not** remove, we create a dictionary with the apps as keys, and the maximum number of reviews we find as the values. For example, looking back at the 'Instagram' rows printed above, the dictionary will contain 'Instagram': `66577446` as its one and only element with 'Instagram' as key."
   ]
  },
  {
   "cell_type": "code",
   "execution_count": 58,
   "metadata": {
    "collapsed": false
   },
   "outputs": [
    {
     "name": "stdout",
     "output_type": "stream",
     "text": [
      "Number of rows = 9659\n"
     ]
    }
   ],
   "source": [
    "reviews_max = {}\n",
    "#exlude header row below\n",
    "for row in android[1:]:\n",
    "    name = row[0] #app name\n",
    "    n_reviews = int(row[3])\n",
    "    if name in reviews_max and n_reviews > reviews_max[name]:\n",
    "        reviews_max[name] = n_reviews\n",
    "    elif app not in reviews_max:\n",
    "        reviews_max[name] = n_reviews\n",
    "        \n",
    "print('Number of rows =', (len(reviews_max)))   "
   ]
  },
  {
   "cell_type": "markdown",
   "metadata": {},
   "source": [
    "This dictionary is used to finally create a \"clean\" android list of lists with each app named exactly once; we expect 9,659 rows. The following code cell creates the new dataset `android_clean` by selecting an instance of the row from the android dataset which contains the max number of reviews, and ignoring *all other instances* of the row for that app in the android dataset."
   ]
  },
  {
   "cell_type": "code",
   "execution_count": 59,
   "metadata": {
    "collapsed": false
   },
   "outputs": [
    {
     "name": "stdout",
     "output_type": "stream",
     "text": [
      "Number of rows in clean android dataset = 9659\n"
     ]
    }
   ],
   "source": [
    "android_clean = []\n",
    "already_added = []\n",
    "\n",
    "for row in android[1:]:\n",
    "    name = row[0]\n",
    "    n_reviews = int(row[3])\n",
    "    if name not in already_added and n_reviews == reviews_max[name]:\n",
    "        android_clean.append(row)\n",
    "        already_added.append(name)\n",
    "\n",
    "print('Number of rows in clean android dataset =', len(android_clean))"
   ]
  },
  {
   "cell_type": "markdown",
   "metadata": {},
   "source": [
    "Let's also check if the ios data set (Apple store) contains any duplicates (two or more rows for the same app name)."
   ]
  },
  {
   "cell_type": "code",
   "execution_count": 60,
   "metadata": {
    "collapsed": false
   },
   "outputs": [
    {
     "name": "stdout",
     "output_type": "stream",
     "text": [
      "['Mannequin Challenge', 'VR Roller Coaster']\n"
     ]
    }
   ],
   "source": [
    "names = []\n",
    "duplicates = []\n",
    "for row in ios[1:]:\n",
    "    app_name= row[1]\n",
    "    if app_name in names:\n",
    "        duplicates.append(app_name)\n",
    "    else:\n",
    "        names.append(app_name)\n",
    "        \n",
    "print(duplicates)"
   ]
  },
  {
   "cell_type": "markdown",
   "metadata": {},
   "source": [
    "There are only two duplicate apps here. We can print out the rows to see what is going on:"
   ]
  },
  {
   "cell_type": "code",
   "execution_count": 61,
   "metadata": {
    "collapsed": false
   },
   "outputs": [
    {
     "name": "stdout",
     "output_type": "stream",
     "text": [
      "['1173990889', 'Mannequin Challenge', '109705216', 'USD', '0.0', '668', '87', '3.0', '3.0', '1.4', '9+', 'Games', '37', '4', '1', '1']\n",
      "\n",
      "['952877179', 'VR Roller Coaster', '169523200', 'USD', '0.0', '107', '102', '3.5', '3.5', '2.0.0', '4+', 'Games', '37', '5', '1', '1']\n",
      "\n",
      "['1178454060', 'Mannequin Challenge', '59572224', 'USD', '0.0', '105', '58', '4.0', '4.5', '1.0.1', '4+', 'Games', '38', '5', '1', '1']\n",
      "\n",
      "['1089824278', 'VR Roller Coaster', '240964608', 'USD', '0.0', '67', '44', '3.5', '4.0', '0.81', '4+', 'Games', '38', '0', '1', '1']\n",
      "\n"
     ]
    }
   ],
   "source": [
    "for row in ios[1:]:\n",
    "    if row[1] == 'Mannequin Challenge' or row[1] == 'VR Roller Coaster':\n",
    "        print(row)\n",
    "        print()"
   ]
  },
  {
   "cell_type": "markdown",
   "metadata": {},
   "source": [
    "The two rows for 'Mannequin Challenge' contain different values for content ratings (4+ and 9+). Because it is unclear which row is correct, we will remove them from our data. After analyzing the rows for 'VR Roller Coaster', we decide to keep only the row with the greater number of user rating counts (6th entry in the row)."
   ]
  },
  {
   "cell_type": "code",
   "execution_count": 62,
   "metadata": {
    "collapsed": false
   },
   "outputs": [
    {
     "name": "stdout",
     "output_type": "stream",
     "text": [
      "7197 rows in original ios data set\n",
      "7194 rows in clean ios data set\n"
     ]
    }
   ],
   "source": [
    "ios_clean=[]\n",
    "for row in ios[1:]:\n",
    "    if row[1] != 'Mannequin Challenge' and row[1] != 'VR Roller Coaster':\n",
    "        ios_clean.append(row)\n",
    "    elif row[1] == 'VR Roller Coaster' and row[5] == '107':\n",
    "        ios_clean.append(row)\n",
    "\n",
    "        #check to see if we really removed 3 rows \n",
    "print(len(ios[1:]), 'rows in original ios data set')\n",
    "print(len(ios_clean), 'rows in clean ios data set')"
   ]
  },
  {
   "cell_type": "markdown",
   "metadata": {},
   "source": [
    "### Additional Data Cleaning: Keep Only English-Language Apps\n",
    "Symbols from outside the English alphabet along with normal punctuation marks have ASCII codes > 127. We define a function to check these codes.\n"
   ]
  },
  {
   "cell_type": "code",
   "execution_count": 63,
   "metadata": {
    "collapsed": false
   },
   "outputs": [
    {
     "name": "stdout",
     "output_type": "stream",
     "text": [
      "Instagram: True\n",
      "\n",
      "爱奇艺PPS -《欢乐颂2》电视剧热播: False\n",
      "\n",
      "Docs To Go™ Free Office Suite: False\n",
      "\n",
      "Instachat 😜: False\n"
     ]
    }
   ],
   "source": [
    "def english(any_string):\n",
    "    for character in any_string:\n",
    "        if ord(character) > 127:\n",
    "            return False\n",
    "            break\n",
    "    return True\n",
    "#Check to see f it works\n",
    "\n",
    "print ('Instagram:' , english('Instagram'))\n",
    "print()\n",
    "print('爱奇艺PPS -《欢乐颂2》电视剧热播:', english('爱奇艺PPS -《欢乐颂2》电视剧热播'))\n",
    "print()\n",
    "print('Docs To Go™ Free Office Suite:', english('Docs To Go™ Free Office Suite'))\n",
    "print()\n",
    "print('Instachat 😜:', english('Instachat 😜'))"
   ]
  },
  {
   "cell_type": "markdown",
   "metadata": {},
   "source": [
    "We observe that the presence of certain symbols in an English-language app name makes the function claim the app is non-English language. To get around this problem, we will allow the the name of an app to contain at least three unusual symbols before we declare it to be a non-English app."
   ]
  },
  {
   "cell_type": "code",
   "execution_count": 64,
   "metadata": {
    "collapsed": false
   },
   "outputs": [
    {
     "name": "stdout",
     "output_type": "stream",
     "text": [
      "Instagram: True\n",
      "\n",
      "爱奇艺PPS -《欢乐颂2》电视剧热播: False\n",
      "\n",
      "Docs To Go™ Free Office Suite: True\n",
      "\n",
      "Instachat 😜: True\n"
     ]
    }
   ],
   "source": [
    "def english(any_string):\n",
    "    unusual=0\n",
    "    for character in any_string:\n",
    "        if ord(character) > 127:\n",
    "            unusual += 1\n",
    "    if unusual <= 3:\n",
    "        return True\n",
    "    else:\n",
    "        return False\n",
    "    \n",
    "#check again to see if it works\n",
    "print ('Instagram:' , english('Instagram'))\n",
    "print()\n",
    "print('爱奇艺PPS -《欢乐颂2》电视剧热播:', english('爱奇艺PPS -《欢乐颂2》电视剧热播'))\n",
    "print()\n",
    "print('Docs To Go™ Free Office Suite:', english('Docs To Go™ Free Office Suite'))\n",
    "print()\n",
    "print('Instachat 😜:', english('Instachat 😜'))"
   ]
  },
  {
   "cell_type": "markdown",
   "metadata": {},
   "source": [
    "Now we use this function to remove non-English apps from both lists. We print out the number of rows remaining in each list."
   ]
  },
  {
   "cell_type": "code",
   "execution_count": 65,
   "metadata": {
    "collapsed": false
   },
   "outputs": [
    {
     "name": "stdout",
     "output_type": "stream",
     "text": [
      "English-language android apps:  9614\n",
      "English-language iOS apps: 6180\n"
     ]
    }
   ],
   "source": [
    "android_english = []\n",
    "for row in android_clean:\n",
    "    app_name=row[0] #the name of the android app is the first entry in the row\n",
    "    if english(app_name):\n",
    "        android_english.append(row)\n",
    "print('English-language android apps: ', len(android_english))\n",
    "\n",
    "ios_english = []\n",
    "for row in ios_clean:\n",
    "    app_name = row[1] #The name of the ios app is the second entry in the row\n",
    "    if english(app_name):\n",
    "        ios_english.append(row)\n",
    "print('English-language iOS apps:', len(ios_english))"
   ]
  },
  {
   "cell_type": "markdown",
   "metadata": {},
   "source": [
    "Our last data-cleaning step is to remove all non-free apps from the data sets. We will be using these final data sets to answer our original questions (1) and (2). Question (3) will be set aside for a future project."
   ]
  },
  {
   "cell_type": "code",
   "execution_count": 66,
   "metadata": {
    "collapsed": false
   },
   "outputs": [
    {
     "name": "stdout",
     "output_type": "stream",
     "text": [
      "Free android apps we will analyze: 8863\n",
      "\n",
      "Free iOS apps we will analyze: 3219\n"
     ]
    }
   ],
   "source": [
    "android_final = []\n",
    "#the price of the android apps appears in the 7th position of the row\n",
    "for row in android_english:\n",
    "    if row[6] == 'Free':\n",
    "        android_final.append(row)\n",
    "\n",
    "ios_final = []\n",
    "#the price of the ios apps appears in the 5th position of the row\n",
    "for row in ios_english:\n",
    "    if row[4] == '0.0':\n",
    "        ios_final.append(row)\n",
    "\n",
    "print('Free android apps we will analyze:', len(android_final))\n",
    "print()\n",
    "print('Free iOS apps we will analyze:', len(ios_final))  "
   ]
  },
  {
   "cell_type": "markdown",
   "metadata": {},
   "source": [
    "## Analysis of the data: building lists by popularity\n",
    "\n",
    "With these two suitable data sets in hand, we can pursue our main theme: Finding the kids of apps that attract the most users.\n",
    "\n",
    "Our **mission** as developers is:\n",
    "    \n",
    "    - First build a basic Android version of an app.\n",
    "    - Wait to see if it attracts a sizable number of users over 6 months.\n",
    "    - In the event the app attract enough users, we develop an iOS version\n",
    "      of it and add it to the App Store.\n",
    "\n",
    "Therefore, it is important that we find the kinds of apps (app profiles) that are successful or popular on *both* platforms. With that in mind, we focus on finding out what are the most common genres for each platform. In the ios data set, we will focus on \"primary genre\" (column 12, corresponding to index 11). In the android data set, we have two columns dealing with genres: \"Genres\" (column index 9) and \"Category\" (column index 1).  \n",
    "\n",
    "We build frequency tables that reveal this information about app genres.\n"
   ]
  },
  {
   "cell_type": "code",
   "execution_count": 67,
   "metadata": {
    "collapsed": false
   },
   "outputs": [],
   "source": [
    "def freq_table(dataset, index): #dataset is a list of lists, index is an integer\n",
    "    dict1={}\n",
    "\n",
    "    for row in dataset:\n",
    "        x = row[index]\n",
    "        if x in dict1:\n",
    "            dict1[x] += 1\n",
    "        else:\n",
    "            dict1[x]= 1\n",
    "    \n",
    "    return dict1\n",
    "\n",
    "def freq_table_perc(dataset, index): #return freq table with percentage values\n",
    "    dict1 = freq_table(dataset, index)\n",
    "    dict2 = {}\n",
    "    total = 0\n",
    "    \n",
    "    for y in dict1:\n",
    "        total += dict1[y]\n",
    "    \n",
    "    for z in dict1:\n",
    "        dict2[z] = 100*dict1[z]/total\n",
    "    \n",
    "    return dict2"
   ]
  },
  {
   "cell_type": "code",
   "execution_count": 68,
   "metadata": {
    "collapsed": true
   },
   "outputs": [],
   "source": [
    "# this function display our frequency tables in a descending list\n",
    "def display_table(dataset, index):\n",
    "    table = freq_table(dataset, index)\n",
    "    table_display = []\n",
    "    for key in table:\n",
    "        key_val_as_tuple = (table[key], key)\n",
    "        table_display.append(key_val_as_tuple)\n",
    "\n",
    "    table_sorted = sorted(table_display, reverse = True)\n",
    "    for entry in table_sorted:\n",
    "        print(entry[1], ':', entry[0])"
   ]
  },
  {
   "cell_type": "markdown",
   "metadata": {},
   "source": [
    "We can now display the sorted frequency tables of the columns `prime_genre`, `Genres` and `Category`."
   ]
  },
  {
   "cell_type": "code",
   "execution_count": 69,
   "metadata": {
    "collapsed": false,
    "scrolled": false
   },
   "outputs": [
    {
     "name": "stdout",
     "output_type": "stream",
     "text": [
      "App store: prime_genre (primary genre): number of apps:\n",
      "\n",
      "Games : 1871\n",
      "Entertainment : 254\n",
      "Photo & Video : 160\n",
      "Education : 118\n",
      "Social Networking : 106\n",
      "Shopping : 84\n",
      "Utilities : 81\n",
      "Sports : 69\n",
      "Music : 66\n",
      "Health & Fitness : 65\n",
      "Productivity : 56\n",
      "Lifestyle : 51\n",
      "News : 43\n",
      "Travel : 40\n",
      "Finance : 36\n",
      "Weather : 28\n",
      "Food & Drink : 26\n",
      "Reference : 18\n",
      "Business : 17\n",
      "Book : 14\n",
      "Navigation : 6\n",
      "Medical : 6\n",
      "Catalogs : 4\n"
     ]
    }
   ],
   "source": [
    "print('App store: prime_genre (primary genre): number of apps:')\n",
    "print()\n",
    "display_table(ios_final, 11)"
   ]
  },
  {
   "cell_type": "code",
   "execution_count": 70,
   "metadata": {
    "collapsed": false
   },
   "outputs": [
    {
     "name": "stdout",
     "output_type": "stream",
     "text": [
      "Google Play: Genres: number of apps:\n",
      "\n",
      "Tools : 749\n",
      "Entertainment : 538\n",
      "Education : 474\n",
      "Business : 406\n",
      "Productivity : 345\n",
      "Lifestyle : 345\n",
      "Finance : 328\n",
      "Medical : 314\n",
      "Sports : 307\n",
      "Personalization : 294\n",
      "Communication : 288\n",
      "Action : 275\n",
      "Health & Fitness : 272\n",
      "Photography : 261\n",
      "News & Magazines : 248\n",
      "Social : 236\n",
      "Travel & Local : 206\n",
      "Shopping : 199\n",
      "Books & Reference : 190\n",
      "Simulation : 181\n",
      "Dating : 165\n",
      "Arcade : 165\n",
      "Video Players & Editors : 158\n",
      "Casual : 155\n",
      "Maps & Navigation : 124\n",
      "Food & Drink : 110\n",
      "Puzzle : 100\n",
      "Racing : 88\n",
      "Role Playing : 83\n",
      "Libraries & Demo : 83\n",
      "Auto & Vehicles : 82\n",
      "Strategy : 80\n",
      "House & Home : 73\n",
      "Weather : 71\n",
      "Events : 63\n",
      "Adventure : 60\n",
      "Comics : 54\n",
      "Beauty : 53\n",
      "Art & Design : 53\n",
      "Parenting : 44\n",
      "Card : 39\n",
      "Casino : 38\n",
      "Trivia : 37\n",
      "Educational;Education : 35\n",
      "Board : 34\n",
      "Educational : 33\n",
      "Education;Education : 30\n",
      "Word : 23\n",
      "Casual;Pretend Play : 21\n",
      "Music : 18\n",
      "Racing;Action & Adventure : 15\n",
      "Puzzle;Brain Games : 15\n",
      "Entertainment;Music & Video : 15\n",
      "Casual;Brain Games : 12\n",
      "Casual;Action & Adventure : 12\n",
      "Arcade;Action & Adventure : 11\n",
      "Action;Action & Adventure : 9\n",
      "Educational;Pretend Play : 8\n",
      "Simulation;Action & Adventure : 7\n",
      "Parenting;Education : 7\n",
      "Entertainment;Brain Games : 7\n",
      "Board;Brain Games : 7\n",
      "Parenting;Music & Video : 6\n",
      "Educational;Brain Games : 6\n",
      "Casual;Creativity : 6\n",
      "Art & Design;Creativity : 6\n",
      "Education;Pretend Play : 5\n",
      "Role Playing;Pretend Play : 4\n",
      "Education;Creativity : 4\n",
      "Role Playing;Action & Adventure : 3\n",
      "Puzzle;Action & Adventure : 3\n",
      "Entertainment;Creativity : 3\n",
      "Entertainment;Action & Adventure : 3\n",
      "Educational;Creativity : 3\n",
      "Educational;Action & Adventure : 3\n",
      "Education;Music & Video : 3\n",
      "Education;Brain Games : 3\n",
      "Education;Action & Adventure : 3\n",
      "Adventure;Action & Adventure : 3\n",
      "Video Players & Editors;Music & Video : 2\n",
      "Sports;Action & Adventure : 2\n",
      "Simulation;Pretend Play : 2\n",
      "Puzzle;Creativity : 2\n",
      "Music;Music & Video : 2\n",
      "Entertainment;Pretend Play : 2\n",
      "Casual;Education : 2\n",
      "Board;Action & Adventure : 2\n",
      "Trivia;Education : 1\n",
      "Travel & Local;Action & Adventure : 1\n",
      "Tools;Education : 1\n",
      "Strategy;Education : 1\n",
      "Strategy;Creativity : 1\n",
      "Strategy;Action & Adventure : 1\n",
      "Simulation;Education : 1\n",
      "Role Playing;Brain Games : 1\n",
      "Racing;Pretend Play : 1\n",
      "Puzzle;Education : 1\n",
      "Parenting;Brain Games : 1\n",
      "Music & Audio;Music & Video : 1\n",
      "Lifestyle;Pretend Play : 1\n",
      "Lifestyle;Education : 1\n",
      "Health & Fitness;Education : 1\n",
      "Health & Fitness;Action & Adventure : 1\n",
      "Entertainment;Education : 1\n",
      "Communication;Creativity : 1\n",
      "Comics;Creativity : 1\n",
      "Casual;Music & Video : 1\n",
      "Card;Brain Games : 1\n",
      "Card;Action & Adventure : 1\n",
      "Books & Reference;Education : 1\n",
      "Art & Design;Pretend Play : 1\n",
      "Art & Design;Action & Adventure : 1\n",
      "Arcade;Pretend Play : 1\n",
      "Adventure;Education : 1\n",
      "None\n"
     ]
    }
   ],
   "source": [
    "print('Google Play: Genres: number of apps:')\n",
    "print()\n",
    "print(display_table(android_final, 9))"
   ]
  },
  {
   "cell_type": "code",
   "execution_count": 71,
   "metadata": {
    "collapsed": false
   },
   "outputs": [
    {
     "name": "stdout",
     "output_type": "stream",
     "text": [
      "Google Play: Category: number of apps:\n",
      "\n",
      "FAMILY : 1703\n",
      "GAME : 843\n",
      "TOOLS : 750\n",
      "BUSINESS : 406\n",
      "LIFESTYLE : 346\n",
      "PRODUCTIVITY : 345\n",
      "FINANCE : 328\n",
      "MEDICAL : 314\n",
      "SPORTS : 303\n",
      "PERSONALIZATION : 294\n",
      "COMMUNICATION : 288\n",
      "HEALTH_AND_FITNESS : 272\n",
      "PHOTOGRAPHY : 261\n",
      "NEWS_AND_MAGAZINES : 248\n",
      "SOCIAL : 236\n",
      "TRAVEL_AND_LOCAL : 207\n",
      "SHOPPING : 199\n",
      "BOOKS_AND_REFERENCE : 190\n",
      "DATING : 165\n",
      "VIDEO_PLAYERS : 158\n",
      "MAPS_AND_NAVIGATION : 124\n",
      "FOOD_AND_DRINK : 110\n",
      "EDUCATION : 100\n",
      "LIBRARIES_AND_DEMO : 83\n",
      "AUTO_AND_VEHICLES : 82\n",
      "ENTERTAINMENT : 78\n",
      "HOUSE_AND_HOME : 73\n",
      "WEATHER : 71\n",
      "EVENTS : 63\n",
      "PARENTING : 58\n",
      "ART_AND_DESIGN : 57\n",
      "COMICS : 55\n",
      "BEAUTY : 53\n",
      "None\n"
     ]
    }
   ],
   "source": [
    "print('Google Play: Category: number of apps:')\n",
    "print()\n",
    "print(display_table(android_final, 1))"
   ]
  },
  {
   "cell_type": "markdown",
   "metadata": {},
   "source": [
    "Looking up at the `prime_genre` table, we observe:  \n",
    "\n",
    "    - Games are by far the most popular genre, followed by Entertainment\n",
    "    - The vast majority of all the 23 free apps are in the first few  \n",
    "      categories\n",
    "    - Most of the free apps in the table are for entertainment or social  \n",
    "      purposes, while practical apps like finance, news, and education\n",
    "      comprise a much smaller share\n",
    "\n",
    "This is suggestive data, but we cannot immediately conclude that gaming and entertainment apps fit our criteria for having a large number of users. For example, we could conceive of a situation where most of the individual gaming and entertainment apps have a small number of users, but many of the education apps have very large numbers of users. In other words, a large number of apps for one genre doesn't imply that apps of that genre have a large number of users. \n",
    "\n",
    "Next, looking at the `Genres` and `Category` frequency tables above, we see:\n",
    "\n",
    "    - The genres and categories are more evenly divided between practical\n",
    "      and entertainment/fun-styled apps. \n",
    "    - There are numerous genres with a large number of apps, with no clear\n",
    "      preference given to the type of genre. \"Tools\" has the greatest number\n",
    "      of apps\n",
    "    - Under categories, the winners are \"Family\" and \"Game\", but there are \n",
    "      many categories like \"Tools\" and \"Business\" which balance things out\n",
    "      between practical and fun\n",
    "\n",
    "This is useful information, but is not enough for us to recommend a specific app profile that will generate a large number of users. Our frequency tables do not clearly reveal which genres have the largest number of users, or even what is actually the most popular genre in the world of free apps. \n",
    "\n",
    "To determine which apps really have the greatest numbers of users, we should calculate the average number of installations for each app genre. In the Google Play (`android_clean`) data set, the number of installations for each app is under `Installs`, or column index 5. The number of installs is not shown in the Apple Store (`ios_clean`) data set, so we will take the total number of user ratings as a substitute figure; this is found in column index 5, `rating_count_tot`.\n",
    "\n",
    "Starting with the Apple Store data set:"
   ]
  },
  {
   "cell_type": "code",
   "execution_count": 72,
   "metadata": {
    "collapsed": false
   },
   "outputs": [
    {
     "name": "stdout",
     "output_type": "stream",
     "text": [
      "Average number of ratings (proxy for average number of users) per genre\n",
      "in Apple Store:\n",
      "\n",
      "Social Networking : 45498\n",
      "Music : 28842\n",
      "Reference : 22410\n",
      "Weather : 22181\n",
      "Shopping : 18615\n",
      "Photo & Video : 14352\n",
      "Travel : 14129\n",
      "Sports : 14026\n",
      "Food & Drink : 13938\n",
      "Games : 13702\n",
      "News : 13015\n",
      "Navigation : 11853\n",
      "Finance : 11047\n",
      "Health & Fitness : 9913\n",
      "Productivity : 8051\n",
      "Entertainment : 7533\n",
      "Utilities : 6863\n",
      "Lifestyle : 6161\n",
      "Book : 5125\n",
      "Business : 4788\n",
      "Education : 2239\n",
      "Catalogs : 1732\n",
      "Medical : 592\n"
     ]
    }
   ],
   "source": [
    "#calculate average number of user ratings per app genre on Apple Store\n",
    "#prime_genre is index 11\n",
    "dict = freq_table(ios_clean, 11)\n",
    "ourtable = []\n",
    "\n",
    "for genre in dict:\n",
    "    \n",
    "    total = 0\n",
    "    len_genre = 0\n",
    "    \n",
    "    for row in ios_clean:\n",
    "        genre_app = row[11]\n",
    "        \n",
    "        if genre_app == genre:\n",
    "            total += float(row[5])\n",
    "            len_genre += 1\n",
    "\n",
    "    ourtable.append((int(total/len_genre),genre))\n",
    "                     \n",
    "#sort and print it out\n",
    "print('Average number of ratings (proxy for average number of users) per genre')  \n",
    "print('in Apple Store:')\n",
    "print()\n",
    "table_sorted = sorted(ourtable, reverse = True)\n",
    "for entry in table_sorted:\n",
    "    print(entry[1], ':', entry[0])"
   ]
  },
  {
   "cell_type": "markdown",
   "metadata": {},
   "source": [
    "We saw above that \"Games\" dominated the number of apps in the App Store, but our latest table shows \"Games\" comes much further down the list when we look at average number of users per app across genres. \n",
    "\n",
    "Looking at the latest table, if we had to choose a free app to develop for the App Store that would attract the most number of users, we would want to choose a social networking app. In second place, we would choose to develop a free app in any of the genres of music, reference or weather. \n",
    "\n",
    "Finally, as developers we want to avoid the last ten or so genres at the bottom of the list. We would not immediately choose to develop free apps dealing with medical topics, catalogs, education, etc. \n",
    "\n",
    "But recall we are going to look at *both* the App Store and Google Play data sets to fulfill our mission. Thus, we need to generate similar tables for the `android_clean` (Google Play) data set. This will involve replacing `numbers of users` in the data set written like '100,000+' (string) with an integer 100000. Otherwise, the program functions just like that used for the Apple Store. "
   ]
  },
  {
   "cell_type": "code",
   "execution_count": 73,
   "metadata": {
    "collapsed": false
   },
   "outputs": [
    {
     "name": "stdout",
     "output_type": "stream",
     "text": [
      "Average number of installs per Category on Google Play:\n",
      "\n",
      "COMMUNICATION : 34934418\n",
      "VIDEO_PLAYERS : 24030691\n",
      "SOCIAL : 22961790\n",
      "PHOTOGRAPHY : 16577037\n",
      "PRODUCTIVITY : 15476180\n",
      "TRAVEL_AND_LOCAL : 13218662\n",
      "GAME : 11766908\n",
      "TOOLS : 9774151\n",
      "NEWS_AND_MAGAZINES : 9327628\n",
      "ENTERTAINMENT : 8920750\n",
      "BOOKS_AND_REFERENCE : 7504367\n",
      "SHOPPING : 6932419\n",
      "FAMILY : 4655437\n",
      "WEATHER : 4570892\n",
      "PERSONALIZATION : 4075783\n",
      "SPORTS : 3964753\n",
      "HEALTH_AND_FITNESS : 3951297\n",
      "MAPS_AND_NAVIGATION : 3841846\n",
      "FOOD_AND_DRINK : 1891060\n",
      "ART_AND_DESIGN : 1856362\n",
      "EDUCATION : 1711076\n",
      "BUSINESS : 1651944\n",
      "LIFESTYLE : 1365375\n",
      "HOUSE_AND_HOME : 1331540\n",
      "FINANCE : 1319851\n",
      "DATING : 828971\n",
      "COMICS : 803234\n",
      "LIBRARIES_AND_DEMO : 630903\n",
      "AUTO_AND_VEHICLES : 625061\n",
      "PARENTING : 525351\n",
      "BEAUTY : 513151\n",
      "EVENTS : 249580\n",
      "MEDICAL : 98997\n"
     ]
    }
   ],
   "source": [
    "#calculate average number of installs per app Category on Google Play\n",
    "#Category is index 1\n",
    "dict = freq_table(android_clean, 1)\n",
    "ourtable = []\n",
    "\n",
    "for category in dict:\n",
    "    \n",
    "    total = 0\n",
    "    len_category = 0\n",
    "    \n",
    "    for row in android_clean:\n",
    "        category_app = row[1]\n",
    "        \n",
    "        if category_app == category:\n",
    "            installs = row[5]\n",
    "            #remove commas and plus signs from number of installs\n",
    "            installs = installs.replace(',', '')\n",
    "            installs = installs.replace('+', '')\n",
    "            total += float(installs)\n",
    "            len_category += 1\n",
    "\n",
    "    ourtable.append((int(total/len_category),category))\n",
    "                     \n",
    "#sort and print it out\n",
    "print('Average number of installs per Category on Google Play:')\n",
    "print()\n",
    "table_sorted = sorted(ourtable, reverse = True)\n",
    "for entry in table_sorted:\n",
    "    print(entry[1], ':', entry[0])"
   ]
  },
  {
   "cell_type": "markdown",
   "metadata": {},
   "source": [
    "Changing the index in the last program also gives us the table for the number of installs per `Genre` on Google Play."
   ]
  },
  {
   "cell_type": "code",
   "execution_count": 74,
   "metadata": {
    "collapsed": false,
    "scrolled": true
   },
   "outputs": [
    {
     "name": "stdout",
     "output_type": "stream",
     "text": [
      "Average number of installs per Genre on Google Play:\n",
      "\n",
      "Communication : 34934418\n",
      "Video Players & Editors : 24030691\n",
      "Social : 22961790\n",
      "Adventure;Action & Adventure : 21230000\n",
      "Arcade : 20325022\n",
      "Casual : 18553845\n",
      "Puzzle;Action & Adventure : 18366666\n",
      "Educational;Action & Adventure : 17016666\n",
      "Photography : 16577037\n",
      "Productivity : 15476180\n",
      "Racing : 15387333\n",
      "Travel & Local : 13278840\n",
      "Casual;Action & Adventure : 11923153\n",
      "Action : 11648960\n",
      "Tools;Education : 10000000\n",
      "Role Playing;Brain Games : 10000000\n",
      "Lifestyle;Pretend Play : 10000000\n",
      "Casual;Music & Video : 10000000\n",
      "Adventure;Education : 10000000\n",
      "Tools : 9773879\n",
      "Strategy : 9623027\n",
      "News & Magazines : 9327628\n",
      "Word : 9094458\n",
      "Music : 8953710\n",
      "Racing;Action & Adventure : 8266250\n",
      "Puzzle;Brain Games : 8253529\n",
      "Books & Reference : 7504367\n",
      "Video Players & Editors;Music & Video : 7500000\n",
      "Puzzle : 6995603\n",
      "Shopping : 6932419\n",
      "Entertainment;Music & Video : 6413333\n",
      "Casual;Pretend Play : 5850440\n",
      "Educational;Pretend Play : 5781930\n",
      "Card;Action & Adventure : 5500000\n",
      "Entertainment : 5373822\n",
      "Casual;Creativity : 5333333\n",
      "Role Playing;Pretend Play : 5275000\n",
      "Role Playing;Action & Adventure : 5275000\n",
      "Simulation;Action & Adventure : 4857142\n",
      "Weather : 4570892\n",
      "etc.\n"
     ]
    }
   ],
   "source": [
    "#calculate average number of installs per app Genre on Google Play\n",
    "#Genres column has index 9\n",
    "dict = freq_table(android_clean, 9)\n",
    "ourtable = []\n",
    "\n",
    "for genre in dict:\n",
    "    \n",
    "    total = 0\n",
    "    len_genre = 0\n",
    "    \n",
    "    for row in android_clean:\n",
    "        genre_app = row[9]\n",
    "        \n",
    "        if genre_app == genre:\n",
    "            installs = row[5]\n",
    "            installs = installs.replace(',', '')\n",
    "            installs = installs.replace('+', '')\n",
    "            total += float(installs)\n",
    "            len_genre += 1\n",
    "\n",
    "    ourtable.append((int(total/len_genre),genre))\n",
    "                     \n",
    "print('Average number of installs per Genre on Google Play:')\n",
    "print()\n",
    "table_sorted = sorted(ourtable, reverse = True)\n",
    "for entry in table_sorted[0:40]:\n",
    "    print(entry[1], ':', entry[0])\n",
    "print('etc.')"
   ]
  },
  {
   "cell_type": "markdown",
   "metadata": {},
   "source": [
    "## Conclusions\n",
    "\n",
    "Looking at the last two tables, we see that apps in the categories of communication, social, and video players are at or near the top of both lists for android. But if we develop such an app for android, what are the chances it will be successful if we add it to the Apple Play store? Clearly, social apps are a good candidate for both platforms, because this genre of app appears at or near the top of all three lists. Also, video players are fairly successful as free apps on both platforms--notice 'Photo and Video\" appears in 6th place (out of 23) in the Apple Store list above. \n",
    "\n",
    "To continue this reasoning in a systematic way, we visually inspect the three tables to find free apps that we might want to develop. First, we identify app categories that land in the top 10 list in **both** the Google Play Categories and Apple Store Genres tables. Results:  \n",
    "\n",
    "    - Social \n",
    "    - Video Players\n",
    "    - Photography\n",
    "    - Travel\n",
    "    - Game\n",
    "\n",
    "Because we analyzed the Google Play data in two ways, let's also see which kinds of apps land in the top 10 list in both the Google Play Genres list and Apple Store Genre tables. A little thought is involved to find overlapping genres, for example \"Action And Adventure\" would overlap with \"Games.\" Results:  \n",
    "\n",
    "    - Video Players & Editors\n",
    "    - Social\n",
    "    - Games\n",
    "        - Adventure; Action & Adventure\n",
    "        - Arcade\n",
    "        - Puzzle; Action & Adventure\n",
    "\n",
    "As developers of free profitable apps, we could develop a free app in any of the categories above with a good potential for success. There are 5 general categories in all, and all fall under the category of \"fun\" apps versus \"reference\" or other \"dry\" categories. One way to proceed would be to choose one of these 5 categories we are knowledgeable about or interested in, and develop an associated app for the android platform. But despite the fact that these are popular apps, we will still face competition from similar apps in the app stores. Therefore, we might be better off selecting the app category from the list that has the fewest number of competitors.\n",
    "\n",
    "We have already produced tables that list the number of apps available in each category, that is, how much competition an app might face. (Let's refer to these as competition tables, with the competition greatest at the top.) \"Games\" and \"Social\" appear very near the top of at least one competition table, so we will avoid these genres. That leaves \"Video\", \"Photography\" and \"Travel\" to think about. But \"Photo & Video\" appears in third place in the competition table for the Apple Store, so that may not be our most promising choice either. That leaves only \"Travel\", which appears at least halfway down the competition tables for Google Category and Apple Genre. Moreover, \"Travel\" also appears fairly far down in the competition table for Google Genre. This is exactly what we want for less competition! Bingo! Our data analysis has honed in on \"Travel.\"\n",
    "\n",
    "In conclusion, a **free travel app** is a solid choice for both profitability and success in the Google Play and Apple Store. "
   ]
  }
 ],
 "metadata": {
  "kernelspec": {
   "display_name": "Python 3",
   "language": "python",
   "name": "python3"
  },
  "language_info": {
   "codemirror_mode": {
    "name": "ipython",
    "version": 3
   },
   "file_extension": ".py",
   "mimetype": "text/x-python",
   "name": "python",
   "nbconvert_exporter": "python",
   "pygments_lexer": "ipython3",
   "version": "3.4.3"
  }
 },
 "nbformat": 4,
 "nbformat_minor": 2
}
